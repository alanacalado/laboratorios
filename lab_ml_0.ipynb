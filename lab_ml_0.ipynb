{
 "cells": [
  {
   "cell_type": "markdown",
   "metadata": {},
   "source": [
    "# Ambientação"
   ]
  },
  {
   "cell_type": "code",
   "execution_count": 5,
   "metadata": {},
   "outputs": [
    {
     "name": "stdout",
     "output_type": "stream",
     "text": [
      "Hello Word!\n"
     ]
    }
   ],
   "source": [
    "print (\"Hello Word!\")"
   ]
  },
  {
   "cell_type": "markdown",
   "metadata": {},
   "source": [
    "## Visual Studio Code\n",
    "- Editor leve e extensível.\n",
    "- Multiplataforma (Windows, macOS, Linux).\n",
    "- Ideal para desenvolvimento web e scripts.\n",
    "## Microsoft Visual Studio Community\n",
    "- IDE completa para desenvolvimento em C# e .NET.\n",
    "- Ferramentas avançadas de debug e testes.\n",
    "- Principalmente usada por Windows."
   ]
  },
  {
   "cell_type": "markdown",
   "metadata": {},
   "source": [
    "## Vantagens :\n",
    "- Isolamento: Mantém dependências específicas de cada projeto, evitando conflitos.\n",
    "- Gerenciamento de Pacotes: Permite instalar e gerenciar pacotes sem afetar o sistema global.\n",
    "- Reproduzibilidade: Facilita a replicação de ambientes de desenvolvimento em diferentes máquinas.\n",
    "- Facilidade de Testes: Testar diferentes versões de pacotes sem riscos ao ambiente principal.\n",
    "- Organização: Mantém projetos organizados e limpos, separando dependências por projeto."
   ]
  },
  {
   "cell_type": "markdown",
   "metadata": {},
   "source": [
    "## O que é markdown e qual sua importância no notebook?\n",
    "\n",
    "- - O Markdown é essencial para criar anotações, explicações e visualizações que complementam o código nos notebooks. Sua importância é na:\n",
    " - Documentação :Facilita a documentação do código. \n",
    " - Legibilidade : Tornando notebooks mais claros e organizados.\n",
    " - Apresentação : Permite criar apresentações de resultados de forma visualmente atraente. \n",
    " - Interatividade : Combina código e explicações em um único documento."
   ]
  }
 ],
 "metadata": {
  "kernelspec": {
   "display_name": ".venv",
   "language": "python",
   "name": "python3"
  },
  "language_info": {
   "codemirror_mode": {
    "name": "ipython",
    "version": 3
   },
   "file_extension": ".py",
   "mimetype": "text/x-python",
   "name": "python",
   "nbconvert_exporter": "python",
   "pygments_lexer": "ipython3",
   "version": "3.12.6"
  }
 },
 "nbformat": 4,
 "nbformat_minor": 2
}
